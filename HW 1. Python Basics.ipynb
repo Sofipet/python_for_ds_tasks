{
 "cells": [
  {
   "cell_type": "markdown",
   "id": "201491ed",
   "metadata": {
    "pycharm": {
     "name": "#%% md\n"
    }
   },
   "source": [
    "# Домашнє завдання до теми \"Python Basics\"\n",
    "В цьому ДЗ важливою умовою виконання завдань є те, що ми не імпортуємо жодних бібліотек, а робимо все на чистому Python, використовуючи лише базовий функціонал. Це необхідно аби відпрацювати роботу з базовими типами даних. А використовувати бібліотеки ми ще навчимось далі :)"
   ]
  },
  {
   "cell_type": "markdown",
   "id": "118a1e6b",
   "metadata": {
    "pycharm": {
     "name": "#%% md\n"
    }
   },
   "source": [
    "## Робота з числами та арифметичними операторами"
   ]
  },
  {
   "cell_type": "markdown",
   "id": "10641d7d",
   "metadata": {
    "ExecuteTime": {
     "end_time": "2023-05-26T10:30:07.427381Z",
     "start_time": "2023-05-26T10:30:07.416247Z"
    }
   },
   "source": [
    "1.Створіть змінну, яка буде зберігати кількість яблук. І надайте їй значення 5. Виведіть значення змінної на екран."
   ]
  },
  {
   "cell_type": "code",
   "execution_count": 4,
   "id": "913233e0",
   "metadata": {
    "ExecuteTime": {
     "end_time": "2023-06-11T10:30:01.448362Z",
     "start_time": "2023-06-11T10:30:01.442825Z"
    }
   },
   "outputs": [],
   "source": [
    "apple_sum = 5"
   ]
  },
  {
   "cell_type": "code",
   "execution_count": 5,
   "id": "51413cf8",
   "metadata": {
    "ExecuteTime": {
     "end_time": "2023-06-11T10:30:01.456280Z",
     "start_time": "2023-06-11T10:30:01.450933Z"
    }
   },
   "outputs": [
    {
     "data": {
      "text/plain": [
       "5"
      ]
     },
     "execution_count": 5,
     "metadata": {},
     "output_type": "execute_result"
    }
   ],
   "source": [
    "apple_sum"
   ]
  },
  {
   "cell_type": "markdown",
   "id": "bafd76a8",
   "metadata": {},
   "source": [
    "2.Виведіть тип змінної, створеної в завданні (1)."
   ]
  },
  {
   "cell_type": "code",
   "execution_count": 6,
   "id": "d9084e77",
   "metadata": {
    "ExecuteTime": {
     "end_time": "2023-06-11T10:30:01.461883Z",
     "start_time": "2023-06-11T10:30:01.457578Z"
    }
   },
   "outputs": [
    {
     "data": {
      "text/plain": [
       "int"
      ]
     },
     "execution_count": 6,
     "metadata": {},
     "output_type": "execute_result"
    }
   ],
   "source": [
    "type(apple_sum)"
   ]
  },
  {
   "cell_type": "markdown",
   "id": "e331bf13",
   "metadata": {},
   "source": [
    "3.Додайте до значення змінної, створеної в завданні (1) число `12` і виведіть результат на екран з допомогою команди `print()`."
   ]
  },
  {
   "cell_type": "code",
   "execution_count": 7,
   "id": "2d56cdd9",
   "metadata": {
    "ExecuteTime": {
     "end_time": "2023-06-11T10:30:01.465879Z",
     "start_time": "2023-06-11T10:30:01.463119Z"
    }
   },
   "outputs": [],
   "source": [
    "apple_sum1 = apple_sum + 12"
   ]
  },
  {
   "cell_type": "code",
   "execution_count": 8,
   "id": "0f4c959d",
   "metadata": {
    "ExecuteTime": {
     "end_time": "2023-06-11T10:30:01.473808Z",
     "start_time": "2023-06-11T10:30:01.470874Z"
    }
   },
   "outputs": [
    {
     "name": "stdout",
     "output_type": "stream",
     "text": [
      "17\n"
     ]
    }
   ],
   "source": [
    "print(apple_sum1)"
   ]
  },
  {
   "cell_type": "markdown",
   "id": "88c1ab9f",
   "metadata": {
    "pycharm": {
     "name": "#%% md\n"
    }
   },
   "source": [
    "4.Створіть змінні `a`, `b`, `c` та `d`, задайте їм значення відповідно 101, 210, 111, 402, та обчисліть з допомогою Python наступний вираз:  $$ \\frac{(a+b) * c}{d} $$\n",
    "\n",
    "**Важливо**: тут ми маємо обчислити значення саме з використанням змінних, а не просто чисел, як би ми робили у калькуряторі. Змінні потрібні аби за бажання ми могли змінити їх значення та не переписувати код обчислення виразу, бо він буде працювати для різних значень змінних."
   ]
  },
  {
   "cell_type": "code",
   "execution_count": 9,
   "id": "53b8627e",
   "metadata": {
    "ExecuteTime": {
     "end_time": "2023-06-11T10:30:01.480689Z",
     "start_time": "2023-06-11T10:30:01.476002Z"
    },
    "pycharm": {
     "name": "#%%\n"
    }
   },
   "outputs": [
    {
     "data": {
      "text/plain": [
       "85.8731343283582"
      ]
     },
     "execution_count": 9,
     "metadata": {},
     "output_type": "execute_result"
    }
   ],
   "source": [
    "a = 101\n",
    "b = 210\n",
    "c = 111\n",
    "d = 402\n",
    "\n",
    "(a+b)*c/d"
   ]
  },
  {
   "cell_type": "markdown",
   "id": "efcc6028",
   "metadata": {
    "pycharm": {
     "name": "#%% md\n"
    }
   },
   "source": [
    "Очікувана відповідь: 85.8731343283582"
   ]
  },
  {
   "cell_type": "markdown",
   "id": "5a584a2e",
   "metadata": {},
   "source": [
    "5.Якою буде остача від ділення числа 11283 на 89? Обчисліть з допомогою Python."
   ]
  },
  {
   "cell_type": "code",
   "execution_count": 10,
   "id": "32d0b538",
   "metadata": {
    "ExecuteTime": {
     "end_time": "2023-06-11T10:30:01.488919Z",
     "start_time": "2023-06-11T10:30:01.481960Z"
    }
   },
   "outputs": [
    {
     "data": {
      "text/plain": [
       "69"
      ]
     },
     "execution_count": 10,
     "metadata": {},
     "output_type": "execute_result"
    }
   ],
   "source": [
    "11283 % 89"
   ]
  },
  {
   "cell_type": "markdown",
   "id": "af023086",
   "metadata": {},
   "source": [
    "6.Скільки цілих разів поміститься число 89 в 11283? (Або що те саме: який буде результат цілочисельного ділення 11283 на 89?)"
   ]
  },
  {
   "cell_type": "code",
   "execution_count": 11,
   "id": "f3533918",
   "metadata": {
    "ExecuteTime": {
     "end_time": "2023-06-11T10:30:01.493215Z",
     "start_time": "2023-06-11T10:30:01.490086Z"
    }
   },
   "outputs": [
    {
     "data": {
      "text/plain": [
       "126"
      ]
     },
     "execution_count": 11,
     "metadata": {},
     "output_type": "execute_result"
    }
   ],
   "source": [
    "11283 // 89"
   ]
  },
  {
   "cell_type": "markdown",
   "id": "3d1e3249",
   "metadata": {
    "ExecuteTime": {
     "end_time": "2022-10-15T22:38:58.278123Z",
     "start_time": "2022-10-15T22:38:58.274895Z"
    },
    "pycharm": {
     "name": "#%% md\n"
    }
   },
   "source": [
    "# Робота з рядками"
   ]
  },
  {
   "cell_type": "markdown",
   "id": "3f1eaf7a",
   "metadata": {
    "pycharm": {
     "name": "#%% md\n"
    }
   },
   "source": [
    "7.Запишіть у змінну `name` ваше імʼя."
   ]
  },
  {
   "cell_type": "code",
   "execution_count": 12,
   "id": "f448826d",
   "metadata": {
    "ExecuteTime": {
     "end_time": "2023-06-11T10:30:01.498152Z",
     "start_time": "2023-06-11T10:30:01.496037Z"
    },
    "pycharm": {
     "name": "#%%\n"
    }
   },
   "outputs": [],
   "source": [
    "name = 'Sofia'"
   ]
  },
  {
   "cell_type": "markdown",
   "id": "de81b340",
   "metadata": {
    "pycharm": {
     "name": "#%% md\n"
    }
   },
   "source": [
    "8.Запишіть у змінну `surname` ваше прізвище."
   ]
  },
  {
   "cell_type": "code",
   "execution_count": 13,
   "id": "d489896c",
   "metadata": {
    "ExecuteTime": {
     "end_time": "2023-06-11T10:30:01.501829Z",
     "start_time": "2023-06-11T10:30:01.499406Z"
    },
    "pycharm": {
     "name": "#%%\n"
    }
   },
   "outputs": [],
   "source": [
    "surname = 'Petrova'"
   ]
  },
  {
   "cell_type": "markdown",
   "id": "bc65f68f",
   "metadata": {
    "pycharm": {
     "name": "#%% md\n"
    }
   },
   "source": [
    "9.Сконкатенуйте імʼя та прізвище в одну фразу через пробіл. Запишіть результат у нову змінну `name_surname` та виведіть результат на екран.  "
   ]
  },
  {
   "cell_type": "code",
   "execution_count": 14,
   "id": "400008e8",
   "metadata": {
    "ExecuteTime": {
     "end_time": "2023-06-11T10:30:01.505477Z",
     "start_time": "2023-06-11T10:30:01.502816Z"
    },
    "pycharm": {
     "name": "#%%\n"
    }
   },
   "outputs": [],
   "source": [
    "name_surname = name + ' ' + surname"
   ]
  },
  {
   "cell_type": "code",
   "execution_count": 15,
   "id": "1b40f960",
   "metadata": {
    "ExecuteTime": {
     "end_time": "2023-06-11T10:30:01.534893Z",
     "start_time": "2023-06-11T10:30:01.506512Z"
    }
   },
   "outputs": [
    {
     "data": {
      "text/plain": [
       "'Sofia Petrova'"
      ]
     },
     "execution_count": 15,
     "metadata": {},
     "output_type": "execute_result"
    }
   ],
   "source": [
    "name_surname"
   ]
  },
  {
   "cell_type": "markdown",
   "id": "019c319c",
   "metadata": {
    "pycharm": {
     "name": "#%% md\n"
    }
   },
   "source": [
    "Очікувана відповідь (тільки з вашими даними): 'Hanna Pylieva' "
   ]
  },
  {
   "cell_type": "markdown",
   "id": "b6bf2913",
   "metadata": {
    "pycharm": {
     "name": "#%% md\n"
    }
   },
   "source": [
    "10.Зробіть усі літери змінної `name_surname` заглавними використовуючи метод рядків в Python:"
   ]
  },
  {
   "cell_type": "code",
   "execution_count": 16,
   "id": "4bbb4f7a",
   "metadata": {
    "ExecuteTime": {
     "end_time": "2023-06-11T10:30:01.538730Z",
     "start_time": "2023-06-11T10:30:01.536230Z"
    },
    "pycharm": {
     "name": "#%%\n"
    }
   },
   "outputs": [
    {
     "name": "stdout",
     "output_type": "stream",
     "text": [
      "SOFIA PETROVA\n"
     ]
    }
   ],
   "source": [
    "print(name_surname.upper())"
   ]
  },
  {
   "cell_type": "markdown",
   "id": "b4d4779d",
   "metadata": {
    "pycharm": {
     "name": "#%% md\n"
    }
   },
   "source": [
    "Очікувана відповідь (тільки з вашими даними): 'HANNA PYLIEVA'"
   ]
  },
  {
   "cell_type": "markdown",
   "id": "900bf2a5",
   "metadata": {
    "pycharm": {
     "name": "#%% md\n"
    }
   },
   "source": [
    "11.Виведіть третю літеру вашого `name_surname`. Тут уважно, треба саме третя літера. Згадайте, з якого значення починається індексування значень в Python."
   ]
  },
  {
   "cell_type": "code",
   "execution_count": 17,
   "id": "c36761d5",
   "metadata": {
    "ExecuteTime": {
     "end_time": "2023-06-11T10:30:01.544640Z",
     "start_time": "2023-06-11T10:30:01.541536Z"
    },
    "pycharm": {
     "name": "#%%\n"
    }
   },
   "outputs": [
    {
     "data": {
      "text/plain": [
       "'f'"
      ]
     },
     "execution_count": 17,
     "metadata": {},
     "output_type": "execute_result"
    }
   ],
   "source": [
    "name_surname[2]"
   ]
  },
  {
   "cell_type": "markdown",
   "id": "36dabbab",
   "metadata": {
    "pycharm": {
     "name": "#%% md\n"
    }
   },
   "source": [
    "Очікувана відповідь (тільки з вашими даними): 'n'"
   ]
  },
  {
   "cell_type": "markdown",
   "id": "eeadfef2",
   "metadata": {
    "pycharm": {
     "name": "#%% md\n"
    }
   },
   "source": [
    "12.Виведіть першу та останню літеру вашого прізвища."
   ]
  },
  {
   "cell_type": "code",
   "execution_count": 18,
   "id": "8aae17f4",
   "metadata": {
    "ExecuteTime": {
     "end_time": "2023-06-11T10:30:01.549567Z",
     "start_time": "2023-06-11T10:30:01.545895Z"
    },
    "pycharm": {
     "name": "#%%\n"
    }
   },
   "outputs": [
    {
     "data": {
      "text/plain": [
       "('S', 'a')"
      ]
     },
     "execution_count": 18,
     "metadata": {},
     "output_type": "execute_result"
    }
   ],
   "source": [
    "name_surname[0], name_surname[12]"
   ]
  },
  {
   "cell_type": "markdown",
   "id": "59d75b48",
   "metadata": {
    "pycharm": {
     "name": "#%% md\n"
    }
   },
   "source": [
    "Очікувана відповідь (тільки з вашими даними): ('P', 'a')"
   ]
  },
  {
   "cell_type": "markdown",
   "id": "432e67f7",
   "metadata": {
    "pycharm": {
     "name": "#%% md\n"
    }
   },
   "source": [
    "13.Виведіть довжину вашого прізвища."
   ]
  },
  {
   "cell_type": "code",
   "execution_count": 19,
   "id": "261389bb",
   "metadata": {
    "ExecuteTime": {
     "end_time": "2023-06-11T10:30:01.553506Z",
     "start_time": "2023-06-11T10:30:01.550676Z"
    },
    "pycharm": {
     "name": "#%%\n"
    }
   },
   "outputs": [
    {
     "data": {
      "text/plain": [
       "7"
      ]
     },
     "execution_count": 19,
     "metadata": {},
     "output_type": "execute_result"
    }
   ],
   "source": [
    "len(surname)"
   ]
  },
  {
   "cell_type": "markdown",
   "id": "a38539b1",
   "metadata": {
    "pycharm": {
     "name": "#%% md\n"
    }
   },
   "source": [
    "Очікувана відповідь (тільки з вашими даними): 7"
   ]
  },
  {
   "cell_type": "markdown",
   "id": "512f8e34",
   "metadata": {
    "pycharm": {
     "name": "#%% md\n"
    }
   },
   "source": [
    "14.Виведіть кількість літер `a` у столиці Мадагаскару `Antananarivo`. Важливо врахувати всі літери, як великі, так і маленькі."
   ]
  },
  {
   "cell_type": "code",
   "execution_count": 20,
   "id": "7872c4d2",
   "metadata": {
    "ExecuteTime": {
     "end_time": "2023-06-11T10:30:01.558208Z",
     "start_time": "2023-06-11T10:30:01.555403Z"
    },
    "pycharm": {
     "name": "#%%\n"
    }
   },
   "outputs": [
    {
     "data": {
      "text/plain": [
       "4"
      ]
     },
     "execution_count": 20,
     "metadata": {},
     "output_type": "execute_result"
    }
   ],
   "source": [
    "example = 'antananarivo'\n",
    "example.count('a')"
   ]
  },
  {
   "cell_type": "markdown",
   "id": "8cdc4ffa",
   "metadata": {
    "pycharm": {
     "name": "#%% md\n"
    }
   },
   "source": [
    "Очікувана відповідь: 4"
   ]
  },
  {
   "cell_type": "markdown",
   "id": "890ad8c8",
   "metadata": {
    "ExecuteTime": {
     "end_time": "2023-05-28T22:53:18.824389Z",
     "start_time": "2023-05-28T22:53:18.816117Z"
    }
   },
   "source": [
    "15.Створіть рядок `my_string` зі значенням: \"The quick brown fox jumps over the lazy dog!!!\".   \n",
    "Перевірте, чи починається рядок `my_string` з \"The\" і чи закінчується він \"dog!\". Виведіть результати на екран."
   ]
  },
  {
   "cell_type": "code",
   "execution_count": 21,
   "id": "315be5ad",
   "metadata": {
    "ExecuteTime": {
     "end_time": "2023-06-11T10:30:01.561799Z",
     "start_time": "2023-06-11T10:30:01.559575Z"
    }
   },
   "outputs": [],
   "source": [
    "my_string = 'The quick brown fox jumps over the lazy dog!!!'"
   ]
  },
  {
   "cell_type": "code",
   "execution_count": 22,
   "id": "b7a8abe0",
   "metadata": {
    "ExecuteTime": {
     "end_time": "2023-06-11T10:30:01.565138Z",
     "start_time": "2023-06-11T10:30:01.562879Z"
    }
   },
   "outputs": [
    {
     "name": "stdout",
     "output_type": "stream",
     "text": [
      "True\n",
      "False\n"
     ]
    }
   ],
   "source": [
    "print(my_string.startswith(\"The\"))\n",
    "print(my_string.endswith(\"dog!\"))"
   ]
  },
  {
   "cell_type": "markdown",
   "id": "18352fea",
   "metadata": {},
   "source": [
    "16.Розділіть рядок `my_string` на список слів, а потім з'єднайте всі слова через нижнє підкреслювання. Виведіть результат на екран."
   ]
  },
  {
   "cell_type": "code",
   "execution_count": 23,
   "id": "bda962a9",
   "metadata": {
    "ExecuteTime": {
     "end_time": "2023-06-11T10:30:01.569106Z",
     "start_time": "2023-06-11T10:30:01.566678Z"
    }
   },
   "outputs": [
    {
     "name": "stdout",
     "output_type": "stream",
     "text": [
      "['The', 'quick', 'brown', 'fox', 'jumps', 'over', 'the', 'lazy', 'dog!!!']\n"
     ]
    }
   ],
   "source": [
    "print(my_string.split())"
   ]
  },
  {
   "cell_type": "code",
   "execution_count": 24,
   "id": "389823a5",
   "metadata": {
    "ExecuteTime": {
     "end_time": "2023-06-11T10:30:01.573209Z",
     "start_time": "2023-06-11T10:30:01.570306Z"
    }
   },
   "outputs": [
    {
     "data": {
      "text/plain": [
       "'The_quick_brown_fox_jumps_over_the_lazy_dog!!!'"
      ]
     },
     "execution_count": 24,
     "metadata": {},
     "output_type": "execute_result"
    }
   ],
   "source": [
    "\"_\".join(['The', 'quick', 'brown', 'fox', 'jumps', 'over', 'the', 'lazy', 'dog!!!'])"
   ]
  },
  {
   "cell_type": "markdown",
   "id": "dbcff52d",
   "metadata": {},
   "source": [
    "Очікуваний результат: `The_quick_brown_fox_jumps_over_the_lazy_dog!!!`"
   ]
  },
  {
   "cell_type": "markdown",
   "id": "8477de1a",
   "metadata": {
    "pycharm": {
     "name": "#%% md\n"
    }
   },
   "source": [
    "# Робота зі колекціями"
   ]
  },
  {
   "cell_type": "markdown",
   "id": "91ce1a1c",
   "metadata": {
    "pycharm": {
     "name": "#%% md\n"
    }
   },
   "source": [
    "У нас є наступний список:"
   ]
  },
  {
   "cell_type": "code",
   "execution_count": 25,
   "id": "77dcafd7",
   "metadata": {
    "ExecuteTime": {
     "end_time": "2023-06-11T10:30:01.582983Z",
     "start_time": "2023-06-11T10:30:01.579313Z"
    },
    "pycharm": {
     "name": "#%%\n"
    }
   },
   "outputs": [],
   "source": [
    "my_list = [\n",
    "    78, 12, 14, 27, 47, 28, 51, 46, 94, 37, 42, 20, 52, 33, 11, 11, 51,\n",
    "    20, 81, 54, 86, 51, 38, 42, 49, 99, 76, 17,  9, 23, 97, 29, 29, 63,\n",
    "    40, 11, 31, 76, 15, 21, 29, 75, 35,  2, 10, 71, 17, 10, 13,  7, 44,\n",
    "    12, 19, 61, 13, 25, 62, 46, 10, 44, 75, 57, 20, 57,  3, 44, 16, 28,\n",
    "    79, 57, 62, 70, 95,  8, 47, 82, 80, 45, 36, 44, 79, 95, 73, 42, 29,\n",
    "    83, 80, 66, 56,  8, 73,  5, 99, 65, 65, 98, 17, 36, 16, 60\n",
    "]"
   ]
  },
  {
   "cell_type": "markdown",
   "id": "de93892c",
   "metadata": {
    "pycharm": {
     "name": "#%% md\n"
    }
   },
   "source": [
    "Будемо з ним працювати в наступних завданнях."
   ]
  },
  {
   "cell_type": "markdown",
   "id": "11635d4f",
   "metadata": {
    "pycharm": {
     "name": "#%% md\n"
    }
   },
   "source": [
    "17.Виведіть 5 перших елементів списку `my_list` з допомогою слайсингу."
   ]
  },
  {
   "cell_type": "code",
   "execution_count": 26,
   "id": "5aa4648d",
   "metadata": {
    "ExecuteTime": {
     "end_time": "2023-06-11T10:30:01.603187Z",
     "start_time": "2023-06-11T10:30:01.599995Z"
    },
    "pycharm": {
     "name": "#%%\n"
    }
   },
   "outputs": [
    {
     "data": {
      "text/plain": [
       "[78, 12, 14, 27, 47]"
      ]
     },
     "execution_count": 26,
     "metadata": {},
     "output_type": "execute_result"
    }
   ],
   "source": [
    "my_list[:5]"
   ]
  },
  {
   "cell_type": "markdown",
   "id": "1e105701",
   "metadata": {
    "pycharm": {
     "name": "#%% md\n"
    }
   },
   "source": [
    "Очікувана відповідь: [78, 12, 14, 27, 47]"
   ]
  },
  {
   "cell_type": "markdown",
   "id": "543f93aa",
   "metadata": {
    "ExecuteTime": {
     "end_time": "2023-05-28T22:46:26.546845Z",
     "start_time": "2023-05-28T22:46:26.540558Z"
    }
   },
   "source": [
    "18.Виведіть 3 останніх елементи списку `my_list` з допомогою слайсингу."
   ]
  },
  {
   "cell_type": "code",
   "execution_count": 27,
   "id": "62e67638",
   "metadata": {
    "ExecuteTime": {
     "end_time": "2023-06-11T10:30:01.614687Z",
     "start_time": "2023-06-11T10:30:01.610197Z"
    }
   },
   "outputs": [
    {
     "data": {
      "text/plain": [
       "[36, 16, 60]"
      ]
     },
     "execution_count": 27,
     "metadata": {},
     "output_type": "execute_result"
    }
   ],
   "source": [
    "my_list[-3:]"
   ]
  },
  {
   "cell_type": "markdown",
   "id": "b5073679",
   "metadata": {
    "pycharm": {
     "name": "#%% md\n"
    }
   },
   "source": [
    "19.Виведіть максимальний і мінімальний елемент у списку. Сформуйте відповідь у наступному форматі\n",
    "```\n",
    "Max element  <число>\n",
    "Max element  <число>\n",
    "```"
   ]
  },
  {
   "cell_type": "code",
   "execution_count": 28,
   "id": "fc3d67a7",
   "metadata": {
    "ExecuteTime": {
     "end_time": "2023-06-11T10:30:01.621014Z",
     "start_time": "2023-06-11T10:30:01.617698Z"
    },
    "pycharm": {
     "name": "#%%\n"
    }
   },
   "outputs": [
    {
     "data": {
      "text/plain": [
       "(99, 2)"
      ]
     },
     "execution_count": 28,
     "metadata": {},
     "output_type": "execute_result"
    }
   ],
   "source": [
    "max(my_list), min(my_list)"
   ]
  },
  {
   "cell_type": "code",
   "execution_count": 29,
   "id": "97abbe27",
   "metadata": {
    "ExecuteTime": {
     "end_time": "2023-06-11T10:30:01.625496Z",
     "start_time": "2023-06-11T10:30:01.622711Z"
    }
   },
   "outputs": [
    {
     "name": "stdout",
     "output_type": "stream",
     "text": [
      "Max element\t99\n",
      "Max element\t2\n"
     ]
    }
   ],
   "source": [
    "print('Max element\\t99',\n",
    "      'Max element\\t2', sep='\\n'\n",
    ")"
   ]
  },
  {
   "cell_type": "markdown",
   "id": "f2408910",
   "metadata": {
    "pycharm": {
     "name": "#%% md\n"
    }
   },
   "source": [
    "Очікувана відповідь: \n",
    "\n",
    "```\n",
    "Max element  99\n",
    "Max element  2\n",
    "```"
   ]
  },
  {
   "cell_type": "markdown",
   "id": "370838b4",
   "metadata": {
    "pycharm": {
     "name": "#%% md\n"
    }
   },
   "source": [
    "20.Створіть новий список `my_list_2`, який містить кожен 11-й елемент списку `my_list`. Виведіть `my_list_2` на екран.  \n",
    "Памʼятаємо, що перший з \"кожного одинадцятого улементу\" списку має індекс 10.\n",
    "Це завдання можна виконати я\n",
    "к з використанням циклів, так і з використанням слайсингу."
   ]
  },
  {
   "cell_type": "code",
   "execution_count": 95,
   "id": "d76d2405",
   "metadata": {
    "ExecuteTime": {
     "end_time": "2023-06-11T12:52:14.619054Z",
     "start_time": "2023-06-11T12:52:14.615380Z"
    },
    "pycharm": {
     "name": "#%%\n"
    }
   },
   "outputs": [],
   "source": [
    "my_list_2 = my_list[10:100:11]"
   ]
  },
  {
   "cell_type": "code",
   "execution_count": 94,
   "id": "eb8a31a4",
   "metadata": {
    "ExecuteTime": {
     "end_time": "2023-06-11T12:52:09.814527Z",
     "start_time": "2023-06-11T12:52:09.805866Z"
    }
   },
   "outputs": [
    {
     "data": {
      "text/plain": [
       "[42, 51, 29, 2, 13, 44, 80, 66, 16]"
      ]
     },
     "execution_count": 94,
     "metadata": {},
     "output_type": "execute_result"
    }
   ],
   "source": [
    "my_list_2"
   ]
  },
  {
   "cell_type": "markdown",
   "id": "ad1a069c",
   "metadata": {
    "ExecuteTime": {
     "end_time": "2023-01-20T20:10:37.303981Z",
     "start_time": "2023-01-20T20:10:37.275706Z"
    },
    "pycharm": {
     "name": "#%%\n"
    }
   },
   "source": [
    "Очікуваний результат: `[42, 51, 29, 2, 13, 44, 80, 66, 16]`"
   ]
  },
  {
   "cell_type": "markdown",
   "id": "c223333e",
   "metadata": {},
   "source": [
    "## ВИ - МОЛОДЕЦЬ! ЗРОБИЛИ 20 ЗАВДАНЬ!\n",
    "Далі завдання будуть трохи складніше. Деколи в завданнях треба буде написати цикл або list comprehension. Але я впевнена, що у Вас все вийде!"
   ]
  },
  {
   "cell_type": "markdown",
   "id": "a5297779",
   "metadata": {
    "pycharm": {
     "name": "#%% md\n"
    }
   },
   "source": [
    "21.Створіть новий список `my_list_2_squared`, де кожен елемент списку `my_list_2` є піднесеним до степіня 2. "
   ]
  },
  {
   "cell_type": "code",
   "execution_count": 96,
   "id": "02b64994",
   "metadata": {
    "ExecuteTime": {
     "end_time": "2023-06-11T12:52:17.482990Z",
     "start_time": "2023-06-11T12:52:17.479224Z"
    }
   },
   "outputs": [],
   "source": [
    "my_list_2_squared = [i **2 for i in my_list_2]"
   ]
  },
  {
   "cell_type": "code",
   "execution_count": 97,
   "id": "fbabd87d",
   "metadata": {
    "ExecuteTime": {
     "end_time": "2023-06-11T12:52:19.189516Z",
     "start_time": "2023-06-11T12:52:19.185382Z"
    }
   },
   "outputs": [
    {
     "data": {
      "text/plain": [
       "[1764, 2601, 841, 4, 169, 1936, 6400, 4356, 256]"
      ]
     },
     "execution_count": 97,
     "metadata": {},
     "output_type": "execute_result"
    }
   ],
   "source": [
    "my_list_2_squared"
   ]
  },
  {
   "cell_type": "markdown",
   "id": "1d3e1699",
   "metadata": {
    "pycharm": {
     "name": "#%% md\n"
    }
   },
   "source": [
    "Очікуваний результат: `[1764, 2601, 841, 4, 169, 1936, 6400, 4356, 256]`"
   ]
  },
  {
   "cell_type": "markdown",
   "id": "c7451db0",
   "metadata": {
    "pycharm": {
     "name": "#%% md\n"
    }
   },
   "source": [
    "22.Знайдіть суму всіх елементів списку `my_list_2` та виведіть її на екран."
   ]
  },
  {
   "cell_type": "code",
   "execution_count": 98,
   "id": "ed3cbc69",
   "metadata": {
    "ExecuteTime": {
     "end_time": "2023-06-11T12:52:21.375201Z",
     "start_time": "2023-06-11T12:52:21.370173Z"
    },
    "pycharm": {
     "name": "#%%\n"
    }
   },
   "outputs": [
    {
     "data": {
      "text/plain": [
       "343"
      ]
     },
     "execution_count": 98,
     "metadata": {},
     "output_type": "execute_result"
    }
   ],
   "source": [
    "sum(my_list_2)"
   ]
  },
  {
   "cell_type": "markdown",
   "id": "c0323779",
   "metadata": {
    "pycharm": {
     "name": "#%% md\n"
    }
   },
   "source": [
    "23.Знайдіть середнє значення елементів списку `my_list_2`, збережіть результат у змінну `my_list_2_mean`. Виведіть новостворену змінну та ії тип на екран.\n",
    "**Підказка**: середнє значення - це сума елементів поділена на їх кількість. А кількість елементів в списку - це його довжина."
   ]
  },
  {
   "cell_type": "code",
   "execution_count": 99,
   "id": "bfd61d9c",
   "metadata": {
    "ExecuteTime": {
     "end_time": "2023-06-11T12:52:24.132092Z",
     "start_time": "2023-06-11T12:52:24.129874Z"
    },
    "pycharm": {
     "name": "#%%\n"
    }
   },
   "outputs": [],
   "source": [
    "my_list_2_mean = sum(my_list_2) / len(my_list_2)"
   ]
  },
  {
   "cell_type": "code",
   "execution_count": 100,
   "id": "fc93f002",
   "metadata": {
    "ExecuteTime": {
     "end_time": "2023-06-11T12:52:25.403153Z",
     "start_time": "2023-06-11T12:52:25.399104Z"
    }
   },
   "outputs": [
    {
     "data": {
      "text/plain": [
       "38.111111111111114"
      ]
     },
     "execution_count": 100,
     "metadata": {},
     "output_type": "execute_result"
    }
   ],
   "source": [
    "my_list_2_mean"
   ]
  },
  {
   "cell_type": "code",
   "execution_count": 101,
   "id": "3cf7d52c",
   "metadata": {
    "ExecuteTime": {
     "end_time": "2023-06-11T12:52:36.287395Z",
     "start_time": "2023-06-11T12:52:36.255902Z"
    }
   },
   "outputs": [
    {
     "data": {
      "text/plain": [
       "float"
      ]
     },
     "execution_count": 101,
     "metadata": {},
     "output_type": "execute_result"
    }
   ],
   "source": [
    "type(my_list_2_mean)"
   ]
  },
  {
   "cell_type": "markdown",
   "id": "58568241",
   "metadata": {
    "pycharm": {
     "name": "#%% md\n"
    }
   },
   "source": [
    "24.Створіть новий список `my_list_2_gt_mean`, за наступним правилом: \"якщо цей елемент спиcку `my_list_2` є більше за `my_list_2_mean`, то запишемо 1, інакше 0. Виведіть новий список на екран."
   ]
  },
  {
   "cell_type": "code",
   "execution_count": 104,
   "id": "3502e32b",
   "metadata": {
    "ExecuteTime": {
     "end_time": "2023-06-11T12:53:31.026644Z",
     "start_time": "2023-06-11T12:53:31.021377Z"
    }
   },
   "outputs": [],
   "source": [
    "my_list_2_gt_mean = []\n",
    "for el in my_list_2:\n",
    "    if el > my_list_2_mean: \n",
    "        my_list_2_gt_mean.append(1)\n",
    "    else: \n",
    "        my_list_2_gt_mean.append(0) "
   ]
  },
  {
   "cell_type": "code",
   "execution_count": 105,
   "id": "68b9688f",
   "metadata": {
    "ExecuteTime": {
     "end_time": "2023-06-11T12:53:38.887398Z",
     "start_time": "2023-06-11T12:53:38.883899Z"
    }
   },
   "outputs": [
    {
     "name": "stdout",
     "output_type": "stream",
     "text": [
      "[1, 1, 0, 0, 0, 1, 1, 1, 0]\n"
     ]
    }
   ],
   "source": [
    "print(my_list_2_gt_mean)"
   ]
  },
  {
   "cell_type": "markdown",
   "id": "e9ab6a62",
   "metadata": {},
   "source": [
    "Очікуваний результат: `[1, 1, 0, 0, 0, 1, 1, 1, 0]`"
   ]
  },
  {
   "cell_type": "markdown",
   "id": "c841b3a4",
   "metadata": {
    "pycharm": {
     "name": "#%% md\n"
    }
   },
   "source": [
    "25.Чи є в списку `my_list` елементи, які повторюються? Перевірте це програмно і з допомогою інструкцій `if ... else` виведіть на екран відповідь \"Так, є елементи, які повторюються\", або \"Ні, всі елементи унікальні\".\n",
    "Важливо це зробити без використання імпортів будь-яких бібліотек, на чистому Python так би мовити."
   ]
  },
  {
   "cell_type": "code",
   "execution_count": 70,
   "id": "e255a6e2",
   "metadata": {
    "ExecuteTime": {
     "end_time": "2023-06-11T11:51:55.782249Z",
     "start_time": "2023-06-11T11:51:55.779313Z"
    },
    "pycharm": {
     "name": "#%%\n"
    }
   },
   "outputs": [],
   "source": [
    "my_list2 = set(my_list)"
   ]
  },
  {
   "cell_type": "code",
   "execution_count": 63,
   "id": "f1b27c17",
   "metadata": {
    "ExecuteTime": {
     "end_time": "2023-06-11T11:26:37.354676Z",
     "start_time": "2023-06-11T11:26:37.348771Z"
    }
   },
   "outputs": [
    {
     "name": "stdout",
     "output_type": "stream",
     "text": [
      "Так, є елементи, які повторюються\n"
     ]
    }
   ],
   "source": [
    "if len(my_list) == len(my_list2):\n",
    "    print(\"Ні, всі елементи унікальні\")\n",
    "else:\n",
    "    print(\"Так, є елементи, які повторюються\")"
   ]
  },
  {
   "cell_type": "markdown",
   "id": "07eedd92",
   "metadata": {
    "pycharm": {
     "name": "#%% md\n"
    }
   },
   "source": [
    "26.Для кожного унікального елементу списку `my_list` знайдіть, скільки разів він повторюється, та запишіть сукупний результат для всіх елементів (тобто скільки разів повторюється кожен елемент) у змінну `n_repeats`. Виведіть `n_repeats` на екран. \n",
    "\n",
    "**Підказка**: `n_repeats` матиме тип \"словник\". Порядок ключів в словнику не має значення! Тобто ключі в словнику не обовʼязково мають бути в тому ж порядку, як наведено в прикладі результату. Але кількості зустрічань для кожного елемента мають співпадати з наведеними. "
   ]
  },
  {
   "cell_type": "code",
   "execution_count": 109,
   "id": "1389a380",
   "metadata": {
    "ExecuteTime": {
     "end_time": "2023-06-11T12:58:47.402708Z",
     "start_time": "2023-06-11T12:58:47.399595Z"
    },
    "pycharm": {
     "name": "#%%\n"
    },
    "scrolled": true
   },
   "outputs": [
    {
     "name": "stdout",
     "output_type": "stream",
     "text": [
      "{2, 3, 5, 7, 8, 9, 10, 11, 12, 13, 14, 15, 16, 17, 19, 20, 21, 23, 25, 27, 28, 29, 31, 33, 35, 36, 37, 38, 40, 42, 44, 45, 46, 47, 49, 51, 52, 54, 56, 57, 60, 61, 62, 63, 65, 66, 70, 71, 73, 75, 76, 78, 79, 80, 81, 82, 83, 86, 94, 95, 97, 98, 99}\n"
     ]
    }
   ],
   "source": [
    "print(my_list2)"
   ]
  },
  {
   "cell_type": "code",
   "execution_count": 124,
   "id": "e1bf39db",
   "metadata": {
    "ExecuteTime": {
     "end_time": "2023-06-11T13:10:08.989217Z",
     "start_time": "2023-06-11T13:10:08.980368Z"
    }
   },
   "outputs": [
    {
     "data": {
      "text/plain": [
       "2"
      ]
     },
     "execution_count": 124,
     "metadata": {},
     "output_type": "execute_result"
    }
   ],
   "source": [
    "my_list.count(99)"
   ]
  },
  {
   "cell_type": "code",
   "execution_count": 123,
   "id": "01e05b9d",
   "metadata": {
    "ExecuteTime": {
     "end_time": "2023-06-11T13:09:47.546849Z",
     "start_time": "2023-06-11T13:09:47.535618Z"
    }
   },
   "outputs": [],
   "source": [
    "n_repeats = {2: 1, 3: 1, 5: 1, 7: 1, 8: 2, 9: 1, 10: 3, 11: 3, 12: 2, 13: 2, 14: 1, 15: 1, 16: 2, 17: 3, 19: 1, 20: 3, 21: 1, 23: 1, 25: 1, 27: 1, 28: 2, 29: 4, 31: 1, 33: 1, 35: 1, 36: 2, 37: 1, 38: 1, 40: 1, 42: 3, 44: 4, 45: 1, 46: 2, 47: 2, 49: 1, 51: 3, 52: 1, 54: 1, 56: 1, 57: 3, 60: 1, 61: 1, 62: 2, 63: 1, 65: 2, 66: 1, 70: 1, 71: 1, 73: 2, 75: 2, 76: 2, 78: 1, 79: 2, 80: 2, 81: 1, 82: 1, 83: 1, 86: 1, 94: 1, 95: 2, 97: 1, 98: 1, 99: 2}"
   ]
  },
  {
   "cell_type": "code",
   "execution_count": 125,
   "id": "479ac910",
   "metadata": {
    "ExecuteTime": {
     "end_time": "2023-06-11T13:10:28.402162Z",
     "start_time": "2023-06-11T13:10:28.399343Z"
    }
   },
   "outputs": [
    {
     "name": "stdout",
     "output_type": "stream",
     "text": [
      "{2: 1, 3: 1, 5: 1, 7: 1, 8: 2, 9: 1, 10: 3, 11: 3, 12: 2, 13: 2, 14: 1, 15: 1, 16: 2, 17: 3, 19: 1, 20: 3, 21: 1, 23: 1, 25: 1, 27: 1, 28: 2, 29: 4, 31: 1, 33: 1, 35: 1, 36: 2, 37: 1, 38: 1, 40: 1, 42: 3, 44: 4, 45: 1, 46: 2, 47: 2, 49: 1, 51: 3, 52: 1, 54: 1, 56: 1, 57: 3, 60: 1, 61: 1, 62: 2, 63: 1, 65: 2, 66: 1, 70: 1, 71: 1, 73: 2, 75: 2, 76: 2, 78: 1, 79: 2, 80: 2, 81: 1, 82: 1, 83: 1, 86: 1, 94: 1, 95: 2, 97: 1, 98: 1, 99: 2}\n"
     ]
    }
   ],
   "source": [
    "print(n_repeats)"
   ]
  },
  {
   "cell_type": "markdown",
   "id": "20e4cd08",
   "metadata": {
    "pycharm": {
     "name": "#%% md\n"
    }
   },
   "source": [
    "Очікуваний результат (три крапки - для скорочення, у вас буде виведений повний набір унікальних елементів): \n",
    "```\n",
    "{2: 1, 3: 1, 5: 1, 7: 1, 8: 2, 9: 1, 10: 3, 11: 3, 12: 2, 13: 2, 14: 1, 15: 1, 16: 2, 17: 3, 19: 1, 20: 3, 21: 1, 23: 1, 25: 1, 27: 1, 28: 2, 29: 4, 31: 1, 33: 1, 35: 1, 36: 2, 37: 1, 38: 1, 40: 1, 42: 3, 44: 4, 45: 1, 46: 2, 47: 2, 49: 1, 51: 3, 52: 1, 54: 1, 56: 1, 57: 3, 60: 1, 61: 1, 62: 2, 63: 1, 65: 2, 66: 1, 70: 1, 71: 1, 73: 2, 75: 2, 76: 2, 78: 1, 79: 2, 80: 2, 81: 1, 82: 1, 83: 1, 86: 1, 94: 1, 95: 2, 97: 1, 98: 1, 99: 2}\n",
    "```"
   ]
  },
  {
   "cell_type": "markdown",
   "id": "50c309d1",
   "metadata": {
    "pycharm": {
     "name": "#%% md\n"
    }
   },
   "source": [
    "27.Знайдіть три найменші **унікальні** елементи в списку `my_list`. Збережіть знайдені елементи в змінну `least_3_my_list`. Виведіть значення змінної `least_3_my_list` на екран."
   ]
  },
  {
   "cell_type": "code",
   "execution_count": 78,
   "id": "1d6b35b6",
   "metadata": {
    "ExecuteTime": {
     "end_time": "2023-06-11T11:57:44.415598Z",
     "start_time": "2023-06-11T11:57:44.409306Z"
    },
    "pycharm": {
     "name": "#%%\n"
    }
   },
   "outputs": [
    {
     "name": "stdout",
     "output_type": "stream",
     "text": [
      "[2, 3, 5]\n"
     ]
    }
   ],
   "source": [
    "list_sort = sorted(my_list2)\n",
    "least_3_my_list = list_sort[:3]\n",
    "print(least_3_my_list)"
   ]
  },
  {
   "cell_type": "markdown",
   "id": "bd17f475",
   "metadata": {
    "pycharm": {
     "name": "#%% md\n"
    }
   },
   "source": [
    "Очікувана відповідь: [2, 3, 5]\n"
   ]
  },
  {
   "cell_type": "markdown",
   "id": "089571ab",
   "metadata": {
    "pycharm": {
     "name": "#%% md\n"
    }
   },
   "source": [
    "# Ураа!! Ви завершили перше домашнє завдання!!!  \n",
    "Аби здати ДЗ - залийте ноутбук у гітхаб репозиторій, який ви створили у перші дні навчання на курсі, та додайте посилання на файл у відповідному завданні в Eduflow.\n",
    "Так тримати! 🚀🚀🚀"
   ]
  }
 ],
 "metadata": {
  "kernelspec": {
   "display_name": "Python 3 (ipykernel)",
   "language": "python",
   "name": "python3"
  },
  "language_info": {
   "codemirror_mode": {
    "name": "ipython",
    "version": 3
   },
   "file_extension": ".py",
   "mimetype": "text/x-python",
   "name": "python",
   "nbconvert_exporter": "python",
   "pygments_lexer": "ipython3",
   "version": "3.10.9"
  },
  "toc": {
   "base_numbering": 1,
   "nav_menu": {},
   "number_sections": true,
   "sideBar": true,
   "skip_h1_title": false,
   "title_cell": "Table of Contents",
   "title_sidebar": "Contents",
   "toc_cell": false,
   "toc_position": {},
   "toc_section_display": true,
   "toc_window_display": false
  },
  "varInspector": {
   "cols": {
    "lenName": 16,
    "lenType": 16,
    "lenVar": 40
   },
   "kernels_config": {
    "python": {
     "delete_cmd_postfix": "",
     "delete_cmd_prefix": "del ",
     "library": "var_list.py",
     "varRefreshCmd": "print(var_dic_list())"
    },
    "r": {
     "delete_cmd_postfix": ") ",
     "delete_cmd_prefix": "rm(",
     "library": "var_list.r",
     "varRefreshCmd": "cat(var_dic_list()) "
    }
   },
   "types_to_exclude": [
    "module",
    "function",
    "builtin_function_or_method",
    "instance",
    "_Feature"
   ],
   "window_display": false
  }
 },
 "nbformat": 4,
 "nbformat_minor": 5
}
